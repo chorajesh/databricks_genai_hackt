{
 "cells": [
  {
   "cell_type": "code",
   "execution_count": 16,
   "id": "c99db20a",
   "metadata": {},
   "outputs": [
    {
     "data": {
      "text/plain": [
       "True"
      ]
     },
     "execution_count": 16,
     "metadata": {},
     "output_type": "execute_result"
    }
   ],
   "source": [
    "#.env file\n",
    "import os\n",
    "from dotenv import load_dotenv, dotenv_values"
   ]
  },
  {
   "attachments": {},
   "cell_type": "markdown",
   "id": "dc69b337",
   "metadata": {},
   "source": [
    "### Get Secrets One At A time"
   ]
  },
  {
   "cell_type": "code",
   "execution_count": 6,
   "id": "06089f23",
   "metadata": {},
   "outputs": [
    {
     "data": {
      "text/plain": [
       "'example.org'"
      ]
     },
     "execution_count": 6,
     "metadata": {},
     "output_type": "execute_result"
    }
   ],
   "source": [
    "load_dotenv()\n",
    "\n",
    "os.environ.get(\"DOMAIN\")"
   ]
  },
  {
   "attachments": {},
   "cell_type": "markdown",
   "id": "dc70e498",
   "metadata": {},
   "source": [
    "### Load configuration without altering the environment\n",
    "\n",
    "The function dotenv_values works more or less the same way as load_dotenv, except it doesn't touch the environment, it just returns a dict with the values parsed from the .env file."
   ]
  },
  {
   "cell_type": "code",
   "execution_count": 14,
   "id": "49882337",
   "metadata": {},
   "outputs": [],
   "source": [
    "config = dotenv_values(\"../../../.env\")  # config = {\"USER\": \"foo\", \"EMAIL\": \"foo@example.org\"}"
   ]
  },
  {
   "cell_type": "code",
   "execution_count": 15,
   "id": "e360c302",
   "metadata": {},
   "outputs": [
    {
     "data": {
      "text/plain": [
       "OrderedDict([('DOMAIN', 'example.org'),\n",
       "             ('ADMIN_EMAIL', 'admin@example.org'),\n",
       "             ('ROOT_URL', 'example.org/app')])"
      ]
     },
     "execution_count": 15,
     "metadata": {},
     "output_type": "execute_result"
    }
   ],
   "source": [
    "config"
   ]
  }
 ],
 "metadata": {
  "kernelspec": {
   "display_name": "Python 3 (ipykernel)",
   "language": "python",
   "name": "python3"
  },
  "language_info": {
   "codemirror_mode": {
    "name": "ipython",
    "version": 3
   },
   "file_extension": ".py",
   "mimetype": "text/x-python",
   "name": "python",
   "nbconvert_exporter": "python",
   "pygments_lexer": "ipython3",
   "version": "3.11.2"
  }
 },
 "nbformat": 4,
 "nbformat_minor": 5
}
